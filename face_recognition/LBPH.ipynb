{
 "cells": [
  {
   "cell_type": "code",
   "execution_count": 45,
   "id": "183abe0f",
   "metadata": {},
   "outputs": [],
   "source": [
    "import numpy as np\n",
    "from PIL import Image, ImageOps\n",
    "from skimage import color\n",
    "from skimage import io\n",
    "from skimage.exposure import histogram\n",
    "from matplotlib import pyplot as plt\n",
    "import cv2\n",
    "import math\n",
    "from matplotlib.pyplot import bar\n",
    "from skimage.transform import rescale, resize, downscale_local_mean\n",
    "from os import listdir\n",
    "from os.path import isfile, join\n",
    "import pickle "
   ]
  },
  {
   "cell_type": "code",
   "execution_count": 46,
   "id": "399b702b",
   "metadata": {},
   "outputs": [],
   "source": [
    "kernal_width = 3\n",
    "grid_x = 8\n",
    "grid_y = 8"
   ]
  },
  {
   "cell_type": "code",
   "execution_count": 47,
   "id": "b320ce4c",
   "metadata": {},
   "outputs": [],
   "source": [
    "def ecludianDistance(hists1,hists2):\n",
    "    dist2 = 0\n",
    "    for i in range(0, len(hists1)):\n",
    "        dist2 += cv2.norm(hists1[i][0], hists2[i][0], normType=cv2.NORM_L2)\n",
    "    print('euclidean distance2:', dist2)\n",
    "    return dist2"
   ]
  },
  {
   "cell_type": "code",
   "execution_count": 48,
   "id": "37ed9f73",
   "metadata": {},
   "outputs": [],
   "source": [
    "def formTiles(image):\n",
    "    tiles = [image[x:x+25,y:y+25] for x in range(0,image.shape[0],25) for y in range(0,image.shape[1],25)]\n",
    "    return tiles"
   ]
  },
  {
   "cell_type": "code",
   "execution_count": 49,
   "id": "37979c6c",
   "metadata": {},
   "outputs": [],
   "source": [
    "def LBPImage(my_image):\n",
    "    processed_image = np.zeros((my_image.shape[0], my_image.shape[1]))\n",
    "    for i in range(0, my_image.shape[0]-2):\n",
    "        for j in range(0, my_image.shape[1]-2):\n",
    "            binary_str = ''\n",
    "            for x in range(0, kernal_width):\n",
    "                for y in range(0, kernal_width):\n",
    "                    if i+x == i+1 and j+y == j+1:\n",
    "                        continue\n",
    "                    if my_image[i+x, j+y] >= my_image[i+1, j+1]:\n",
    "                        binary_str += '1'\n",
    "                    else:\n",
    "                        binary_str += '0'\n",
    "            processed_image[i+1, j+1] = int(binary_str, 2) / 255\n",
    "\n",
    "    return processed_image"
   ]
  },
  {
   "cell_type": "code",
   "execution_count": 50,
   "id": "60bad11e",
   "metadata": {},
   "outputs": [],
   "source": [
    "def calcHistograms2(tiles):\n",
    "    hists = []\n",
    "    for i in range(0, 64):\n",
    "        hists.append(histogram(tiles[i]))\n",
    "    return hists"
   ]
  },
  {
   "cell_type": "code",
   "execution_count": 51,
   "id": "cc8ca6f9",
   "metadata": {},
   "outputs": [
    {
     "name": "stdout",
     "output_type": "stream",
     "text": [
      "1 robert\n",
      "2 bishoy\n",
      "3 abdullah\n",
      "30\n"
     ]
    }
   ],
   "source": [
    "megaHistogram = []\n",
    "label=['robert','bishoy', 'abdullah']\n",
    "for i in range(len(label)):\n",
    "    imageHistograms = []\n",
    "    mypath=label[i]\n",
    "    for f in listdir(mypath):\n",
    "        if isfile(join(mypath, f)):\n",
    "            image = cv2.imread(mypath + '/' + f)\n",
    "            image = cv2.resize(image, (200, 200))\n",
    "            image = cv2.cvtColor(image, cv2.COLOR_BGR2GRAY)\n",
    "            processed_image = LBPImage(image)\n",
    "            tiles = formTiles(processed_image)\n",
    "            hists = calcHistograms2(tiles)\n",
    "            imageHistograms.append(hists)\n",
    "    megaHistogram.append([imageHistograms, label[i]])\n",
    "    print(len(megaHistogram), megaHistogram[i][1])\n",
    "    \n",
    "print(len(megaHistogram[0][0]))\n",
    "pickle.dump(megaHistogram, open('megaHistogram.pkl', 'wb'))\n"
   ]
  },
  {
   "cell_type": "code",
   "execution_count": 29,
   "id": "75da6296",
   "metadata": {},
   "outputs": [],
   "source": [
    "def compareFaces(image):\n",
    "    image = cv2.resize(image, (200, 200))\n",
    "    image = cv2.cvtColor(image, cv2.COLOR_BGR2GRAY)\n",
    "    processed_image = LBPImage(image)\n",
    " \n",
    "    tiles = formTiles(processed_image)\n",
    "    hists = calcHistograms2(tiles)\n",
    "    distFromEachFace = []\n",
    "    for i in range(0, len(megaHistogram)):\n",
    "        dist = 0\n",
    "        for j in range(0, len(megaHistogram[i][0])):\n",
    "            dist += ecludianDistance(hists, megaHistogram[i][0][j])\n",
    "        dist = dist // len(megaHistogram[i][0])\n",
    "        distFromEachFace.append([dist, megaHistogram[i][1]])\n",
    "        print(dist)\n",
    "    return min(distFromEachFace)"
   ]
  },
  {
   "cell_type": "code",
   "execution_count": 39,
   "id": "e0b52326",
   "metadata": {
    "scrolled": false
   },
   "outputs": [
    {
     "name": "stdout",
     "output_type": "stream",
     "text": [
      "euclidean distance2: 6830.90938974788\n",
      "euclidean distance2: 7122.131328036196\n",
      "euclidean distance2: 7427.298038066145\n",
      "euclidean distance2: 7344.007036637399\n",
      "euclidean distance2: 6888.487585356561\n",
      "euclidean distance2: 7055.689267645404\n",
      "euclidean distance2: 6900.265782079\n",
      "euclidean distance2: 7749.875578870986\n",
      "euclidean distance2: 6746.9548701672165\n",
      "euclidean distance2: 8225.137386638038\n",
      "euclidean distance2: 9325.633263066142\n",
      "euclidean distance2: 7173.440010480863\n",
      "euclidean distance2: 6762.684762551904\n",
      "euclidean distance2: 7105.607595699053\n",
      "euclidean distance2: 8618.237358442468\n",
      "euclidean distance2: 7021.979360149839\n",
      "euclidean distance2: 7686.4662563366155\n",
      "euclidean distance2: 7742.42719906277\n",
      "7429.0\n",
      "euclidean distance2: 6749.616238929699\n",
      "euclidean distance2: 7307.053037472473\n",
      "euclidean distance2: 8666.403572819707\n",
      "euclidean distance2: 7119.389424143266\n",
      "euclidean distance2: 6869.799496949259\n",
      "euclidean distance2: 7591.947414632712\n",
      "euclidean distance2: 6703.658980403968\n",
      "euclidean distance2: 6822.996234011355\n",
      "euclidean distance2: 7705.04168738207\n",
      "euclidean distance2: 7390.227104018716\n",
      "euclidean distance2: 6792.096080187672\n",
      "euclidean distance2: 6866.083889576621\n",
      "euclidean distance2: 7335.700521150863\n",
      "euclidean distance2: 7094.9384258070695\n",
      "euclidean distance2: 6971.327785200211\n",
      "euclidean distance2: 6748.519549593849\n",
      "euclidean distance2: 7269.096758614948\n",
      "euclidean distance2: 9029.81188082158\n",
      "7279.0\n",
      "[7279.0, 'bishoy']\n"
     ]
    }
   ],
   "source": [
    "kit_image = cv2.imread('2/17.png',)\n",
    "print(compareFaces(kit_image))"
   ]
  }
 ],
 "metadata": {
  "kernelspec": {
   "display_name": "Python 3 (ipykernel)",
   "language": "python",
   "name": "python3"
  },
  "language_info": {
   "codemirror_mode": {
    "name": "ipython",
    "version": 3
   },
   "file_extension": ".py",
   "mimetype": "text/x-python",
   "name": "python",
   "nbconvert_exporter": "python",
   "pygments_lexer": "ipython3",
   "version": "3.8.12"
  }
 },
 "nbformat": 4,
 "nbformat_minor": 5
}
